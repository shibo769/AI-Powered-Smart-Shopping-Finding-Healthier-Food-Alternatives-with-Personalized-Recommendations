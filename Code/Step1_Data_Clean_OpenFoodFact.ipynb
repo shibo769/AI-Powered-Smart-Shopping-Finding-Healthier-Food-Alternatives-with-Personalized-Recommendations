{
 "cells": [
  {
   "cell_type": "code",
   "execution_count": 118,
   "id": "02d4f7de-1bca-492d-b39a-ffc1e6870d64",
   "metadata": {},
   "outputs": [],
   "source": [
    "import pandas as pd\n",
    "import numpy as np\n",
    "import matplotlib.pyplot as plt"
   ]
  },
  {
   "cell_type": "markdown",
   "id": "e98c98c7-f072-46ba-9115-615b1b1c0be9",
   "metadata": {},
   "source": [
    "# Data Cleaning"
   ]
  },
  {
   "cell_type": "code",
   "execution_count": 119,
   "id": "bf796b9d-8fd5-4f32-b864-84bff8e4a0bf",
   "metadata": {},
   "outputs": [],
   "source": [
    "food_fact = pd.read_csv(\"en.openfoodfacts.org.products.tsv\", sep='\\t', low_memory=False)"
   ]
  },
  {
   "cell_type": "code",
   "execution_count": 120,
   "id": "9e7d5bbe-3435-4692-b345-2e1c744a31d5",
   "metadata": {},
   "outputs": [
    {
     "data": {
      "text/html": [
       "<div>\n",
       "<style scoped>\n",
       "    .dataframe tbody tr th:only-of-type {\n",
       "        vertical-align: middle;\n",
       "    }\n",
       "\n",
       "    .dataframe tbody tr th {\n",
       "        vertical-align: top;\n",
       "    }\n",
       "\n",
       "    .dataframe thead th {\n",
       "        text-align: right;\n",
       "    }\n",
       "</style>\n",
       "<table border=\"1\" class=\"dataframe\">\n",
       "  <thead>\n",
       "    <tr style=\"text-align: right;\">\n",
       "      <th></th>\n",
       "      <th>code</th>\n",
       "      <th>url</th>\n",
       "      <th>creator</th>\n",
       "      <th>created_t</th>\n",
       "      <th>created_datetime</th>\n",
       "      <th>last_modified_t</th>\n",
       "      <th>last_modified_datetime</th>\n",
       "      <th>product_name</th>\n",
       "      <th>generic_name</th>\n",
       "      <th>quantity</th>\n",
       "      <th>...</th>\n",
       "      <th>fruits-vegetables-nuts_100g</th>\n",
       "      <th>fruits-vegetables-nuts-estimate_100g</th>\n",
       "      <th>collagen-meat-protein-ratio_100g</th>\n",
       "      <th>cocoa_100g</th>\n",
       "      <th>chlorophyl_100g</th>\n",
       "      <th>carbon-footprint_100g</th>\n",
       "      <th>nutrition-score-fr_100g</th>\n",
       "      <th>nutrition-score-uk_100g</th>\n",
       "      <th>glycemic-index_100g</th>\n",
       "      <th>water-hardness_100g</th>\n",
       "    </tr>\n",
       "  </thead>\n",
       "  <tbody>\n",
       "    <tr>\n",
       "      <th>0</th>\n",
       "      <td>0000000003087</td>\n",
       "      <td>http://world-en.openfoodfacts.org/product/0000...</td>\n",
       "      <td>openfoodfacts-contributors</td>\n",
       "      <td>1474103866</td>\n",
       "      <td>2016-09-17T09:17:46Z</td>\n",
       "      <td>1474103893</td>\n",
       "      <td>2016-09-17T09:18:13Z</td>\n",
       "      <td>Farine de blé noir</td>\n",
       "      <td>NaN</td>\n",
       "      <td>1kg</td>\n",
       "      <td>...</td>\n",
       "      <td>NaN</td>\n",
       "      <td>NaN</td>\n",
       "      <td>NaN</td>\n",
       "      <td>NaN</td>\n",
       "      <td>NaN</td>\n",
       "      <td>NaN</td>\n",
       "      <td>NaN</td>\n",
       "      <td>NaN</td>\n",
       "      <td>NaN</td>\n",
       "      <td>NaN</td>\n",
       "    </tr>\n",
       "    <tr>\n",
       "      <th>1</th>\n",
       "      <td>0000000004530</td>\n",
       "      <td>http://world-en.openfoodfacts.org/product/0000...</td>\n",
       "      <td>usda-ndb-import</td>\n",
       "      <td>1489069957</td>\n",
       "      <td>2017-03-09T14:32:37Z</td>\n",
       "      <td>1489069957</td>\n",
       "      <td>2017-03-09T14:32:37Z</td>\n",
       "      <td>Banana Chips Sweetened (Whole)</td>\n",
       "      <td>NaN</td>\n",
       "      <td>NaN</td>\n",
       "      <td>...</td>\n",
       "      <td>NaN</td>\n",
       "      <td>NaN</td>\n",
       "      <td>NaN</td>\n",
       "      <td>NaN</td>\n",
       "      <td>NaN</td>\n",
       "      <td>NaN</td>\n",
       "      <td>14.0</td>\n",
       "      <td>14.0</td>\n",
       "      <td>NaN</td>\n",
       "      <td>NaN</td>\n",
       "    </tr>\n",
       "    <tr>\n",
       "      <th>2</th>\n",
       "      <td>0000000004559</td>\n",
       "      <td>http://world-en.openfoodfacts.org/product/0000...</td>\n",
       "      <td>usda-ndb-import</td>\n",
       "      <td>1489069957</td>\n",
       "      <td>2017-03-09T14:32:37Z</td>\n",
       "      <td>1489069957</td>\n",
       "      <td>2017-03-09T14:32:37Z</td>\n",
       "      <td>Peanuts</td>\n",
       "      <td>NaN</td>\n",
       "      <td>NaN</td>\n",
       "      <td>...</td>\n",
       "      <td>NaN</td>\n",
       "      <td>NaN</td>\n",
       "      <td>NaN</td>\n",
       "      <td>NaN</td>\n",
       "      <td>NaN</td>\n",
       "      <td>NaN</td>\n",
       "      <td>0.0</td>\n",
       "      <td>0.0</td>\n",
       "      <td>NaN</td>\n",
       "      <td>NaN</td>\n",
       "    </tr>\n",
       "    <tr>\n",
       "      <th>3</th>\n",
       "      <td>0000000016087</td>\n",
       "      <td>http://world-en.openfoodfacts.org/product/0000...</td>\n",
       "      <td>usda-ndb-import</td>\n",
       "      <td>1489055731</td>\n",
       "      <td>2017-03-09T10:35:31Z</td>\n",
       "      <td>1489055731</td>\n",
       "      <td>2017-03-09T10:35:31Z</td>\n",
       "      <td>Organic Salted Nut Mix</td>\n",
       "      <td>NaN</td>\n",
       "      <td>NaN</td>\n",
       "      <td>...</td>\n",
       "      <td>NaN</td>\n",
       "      <td>NaN</td>\n",
       "      <td>NaN</td>\n",
       "      <td>NaN</td>\n",
       "      <td>NaN</td>\n",
       "      <td>NaN</td>\n",
       "      <td>12.0</td>\n",
       "      <td>12.0</td>\n",
       "      <td>NaN</td>\n",
       "      <td>NaN</td>\n",
       "    </tr>\n",
       "    <tr>\n",
       "      <th>4</th>\n",
       "      <td>0000000016094</td>\n",
       "      <td>http://world-en.openfoodfacts.org/product/0000...</td>\n",
       "      <td>usda-ndb-import</td>\n",
       "      <td>1489055653</td>\n",
       "      <td>2017-03-09T10:34:13Z</td>\n",
       "      <td>1489055653</td>\n",
       "      <td>2017-03-09T10:34:13Z</td>\n",
       "      <td>Organic Polenta</td>\n",
       "      <td>NaN</td>\n",
       "      <td>NaN</td>\n",
       "      <td>...</td>\n",
       "      <td>NaN</td>\n",
       "      <td>NaN</td>\n",
       "      <td>NaN</td>\n",
       "      <td>NaN</td>\n",
       "      <td>NaN</td>\n",
       "      <td>NaN</td>\n",
       "      <td>NaN</td>\n",
       "      <td>NaN</td>\n",
       "      <td>NaN</td>\n",
       "      <td>NaN</td>\n",
       "    </tr>\n",
       "  </tbody>\n",
       "</table>\n",
       "<p>5 rows × 163 columns</p>\n",
       "</div>"
      ],
      "text/plain": [
       "            code                                                url  \\\n",
       "0  0000000003087  http://world-en.openfoodfacts.org/product/0000...   \n",
       "1  0000000004530  http://world-en.openfoodfacts.org/product/0000...   \n",
       "2  0000000004559  http://world-en.openfoodfacts.org/product/0000...   \n",
       "3  0000000016087  http://world-en.openfoodfacts.org/product/0000...   \n",
       "4  0000000016094  http://world-en.openfoodfacts.org/product/0000...   \n",
       "\n",
       "                      creator   created_t      created_datetime  \\\n",
       "0  openfoodfacts-contributors  1474103866  2016-09-17T09:17:46Z   \n",
       "1             usda-ndb-import  1489069957  2017-03-09T14:32:37Z   \n",
       "2             usda-ndb-import  1489069957  2017-03-09T14:32:37Z   \n",
       "3             usda-ndb-import  1489055731  2017-03-09T10:35:31Z   \n",
       "4             usda-ndb-import  1489055653  2017-03-09T10:34:13Z   \n",
       "\n",
       "  last_modified_t last_modified_datetime                    product_name  \\\n",
       "0      1474103893   2016-09-17T09:18:13Z              Farine de blé noir   \n",
       "1      1489069957   2017-03-09T14:32:37Z  Banana Chips Sweetened (Whole)   \n",
       "2      1489069957   2017-03-09T14:32:37Z                         Peanuts   \n",
       "3      1489055731   2017-03-09T10:35:31Z          Organic Salted Nut Mix   \n",
       "4      1489055653   2017-03-09T10:34:13Z                 Organic Polenta   \n",
       "\n",
       "  generic_name quantity  ... fruits-vegetables-nuts_100g  \\\n",
       "0          NaN      1kg  ...                         NaN   \n",
       "1          NaN      NaN  ...                         NaN   \n",
       "2          NaN      NaN  ...                         NaN   \n",
       "3          NaN      NaN  ...                         NaN   \n",
       "4          NaN      NaN  ...                         NaN   \n",
       "\n",
       "  fruits-vegetables-nuts-estimate_100g collagen-meat-protein-ratio_100g  \\\n",
       "0                                  NaN                              NaN   \n",
       "1                                  NaN                              NaN   \n",
       "2                                  NaN                              NaN   \n",
       "3                                  NaN                              NaN   \n",
       "4                                  NaN                              NaN   \n",
       "\n",
       "  cocoa_100g chlorophyl_100g carbon-footprint_100g nutrition-score-fr_100g  \\\n",
       "0        NaN             NaN                   NaN                     NaN   \n",
       "1        NaN             NaN                   NaN                    14.0   \n",
       "2        NaN             NaN                   NaN                     0.0   \n",
       "3        NaN             NaN                   NaN                    12.0   \n",
       "4        NaN             NaN                   NaN                     NaN   \n",
       "\n",
       "  nutrition-score-uk_100g glycemic-index_100g water-hardness_100g  \n",
       "0                     NaN                 NaN                 NaN  \n",
       "1                    14.0                 NaN                 NaN  \n",
       "2                     0.0                 NaN                 NaN  \n",
       "3                    12.0                 NaN                 NaN  \n",
       "4                     NaN                 NaN                 NaN  \n",
       "\n",
       "[5 rows x 163 columns]"
      ]
     },
     "execution_count": 120,
     "metadata": {},
     "output_type": "execute_result"
    }
   ],
   "source": [
    "food_fact.head()"
   ]
  },
  {
   "cell_type": "code",
   "execution_count": 121,
   "id": "2ffada0b-71f6-401b-a8e6-ea4f7ff81fd6",
   "metadata": {},
   "outputs": [
    {
     "data": {
      "text/plain": [
       "(356027, 163)"
      ]
     },
     "execution_count": 121,
     "metadata": {},
     "output_type": "execute_result"
    }
   ],
   "source": [
    "food_fact.shape"
   ]
  },
  {
   "cell_type": "markdown",
   "id": "a3ad4978-ee04-4017-8d5b-15db73d806b5",
   "metadata": {},
   "source": [
    "There are 356,027 rows and 163 columns in our data."
   ]
  },
  {
   "cell_type": "code",
   "execution_count": 122,
   "id": "9166f532-0302-4606-9329-b3c28fe97d9c",
   "metadata": {},
   "outputs": [],
   "source": [
    "nan_percentage = food_fact.isnull().mean()"
   ]
  },
  {
   "cell_type": "code",
   "execution_count": 123,
   "id": "f8102b22-b5e4-4f89-a780-6aad153fe4d1",
   "metadata": {},
   "outputs": [
    {
     "data": {
      "image/png": "[encoded data removed]",
      "text/plain": [
       "<Figure size 800x500 with 1 Axes>"
      ]
     },
     "metadata": {},
     "output_type": "display_data"
    }
   ],
   "source": [
    "plt.figure(figsize=(8, 5))\n",
    "plt.hist(nan_percentage * 100, bins=range(0, 101, 10), edgecolor='black')\n",
    "plt.title('Distribution of NaN Values by Column', fontsize=16)\n",
    "plt.xlabel('Percentage of NaN Values', fontsize=12)\n",
    "plt.ylabel('Number of Columns', fontsize=12)\n",
    "plt.show()"
   ]
  },
  {
   "cell_type": "markdown",
   "id": "de78a4a1-fb0a-4b6c-ba00-911fe0ba23f6",
   "metadata": {},
   "source": [
    "### Drop Columns with more than 50% Nan values"
   ]
  },
  {
   "cell_type": "code",
   "execution_count": 124,
   "id": "a4ee7a7e-d617-493f-84bc-fdcd0baac1f2",
   "metadata": {},
   "outputs": [],
   "source": [
    "columns_to_drop = nan_percentage[nan_percentage > 0.5].index\n",
    "food_fact = food_fact.drop(columns = columns_to_drop)"
   ]
  },
  {
   "cell_type": "markdown",
   "id": "44926852-e2a0-4d62-8b0b-0f778252402c",
   "metadata": {},
   "source": [
    "### Drop columns that provide similar information"
   ]
  },
  {
   "cell_type": "code",
   "execution_count": 125,
   "id": "9662def0-d638-43db-9773-f7157c2f0653",
   "metadata": {},
   "outputs": [],
   "source": [
    "food_fact = food_fact.drop(columns=[\n",
    "    'created_datetime', \n",
    "    'last_modified_datetime', \n",
    "    'brands_tags', \n",
    "    'countries_tags', \n",
    "    'countries', \n",
    "    'additives', \n",
    "    'ingredients_that_may_be_from_palm_oil_n', \n",
    "    'states_tags', \n",
    "    'states_en'\n",
    "])"
   ]
  },
  {
   "cell_type": "markdown",
   "id": "ce139129-9b99-4e8e-af73-244f313133bc",
   "metadata": {},
   "source": [
    "### Drop columns that we don't have interest"
   ]
  },
  {
   "cell_type": "code",
   "execution_count": 126,
   "id": "fe99db1b-f564-4fe6-9a1a-4d607adad4b9",
   "metadata": {},
   "outputs": [],
   "source": [
    "food_fact = food_fact.drop(columns=[\n",
    "    'url', \n",
    "    'creator', \n",
    "    'created_t', \n",
    "    'last_modified_t', \n",
    "    'ingredients_from_palm_oil_n',\n",
    "    'states'\n",
    "])"
   ]
  },
  {
   "cell_type": "markdown",
   "id": "6184ac3a-a064-43cd-9459-62953fa10e22",
   "metadata": {},
   "source": [
    "### Fill missing nutrition values with 0"
   ]
  },
  {
   "cell_type": "code",
   "execution_count": 127,
   "id": "e859fe0c-ae22-4b13-9286-6cf4d83b8c7f",
   "metadata": {},
   "outputs": [],
   "source": [
    "nutrition_columns = [\n",
    "    'fat_100g', 'saturated-fat_100g', 'carbohydrates_100g', \n",
    "    'sugars_100g', 'fiber_100g', 'proteins_100g', 'salt_100g', \n",
    "    'sodium_100g'\n",
    "]\n",
    "food_fact[nutrition_columns] = food_fact[nutrition_columns].fillna(0)"
   ]
  },
  {
   "cell_type": "markdown",
   "id": "65f99c55-d46f-4e58-b2d7-d1fd3557428b",
   "metadata": {},
   "source": [
    "### Handle abnormal values"
   ]
  },
  {
   "cell_type": "code",
   "execution_count": 128,
   "id": "ce83066a-2c84-4f1e-9c48-50e8670baa26",
   "metadata": {},
   "outputs": [],
   "source": [
    "food_fact = food_fact[\n",
    "    (food_fact[nutrition_columns] >= 0).all(axis=1) &\n",
    "    (food_fact[nutrition_columns] <= 100).all(axis=1)\n",
    "]"
   ]
  },
  {
   "cell_type": "code",
   "execution_count": 129,
   "id": "f6bc4dc9-0e95-496a-81ad-34db7f96a20e",
   "metadata": {},
   "outputs": [],
   "source": [
    "food_fact['nutrition_sum'] = food_fact[nutrition_columns].sum(axis=1)\n",
    "food_fact = food_fact[food_fact['nutrition_sum'] <= 100]\n",
    "food_fact = food_fact.drop(columns=[\n",
    "    'nutrition_sum'\n",
    "])"
   ]
  },
  {
   "cell_type": "code",
   "execution_count": 130,
   "id": "1cc18f0f-09a0-4838-9e0b-8187dee72939",
   "metadata": {},
   "outputs": [
    {
     "data": {
      "text/plain": [
       "(260684, 19)"
      ]
     },
     "execution_count": 130,
     "metadata": {},
     "output_type": "execute_result"
    }
   ],
   "source": [
    "food_fact.shape"
   ]
  },
  {
   "cell_type": "markdown",
   "id": "8de13ba8-0586-42d2-8bf6-ba9c37c6d63c",
   "metadata": {},
   "source": [
    "### Manage the two nutrition scores"
   ]
  },
  {
   "cell_type": "code",
   "execution_count": 131,
   "id": "011dcde6-0918-4f04-87b7-fccb80f33d3d",
   "metadata": {},
   "outputs": [
    {
     "data": {
      "text/plain": [
       "249383"
      ]
     },
     "execution_count": 131,
     "metadata": {},
     "output_type": "execute_result"
    }
   ],
   "source": [
    "matching_rows = ((food_fact['nutrition-score-fr_100g'] == food_fact['nutrition-score-uk_100g']) |\n",
    "                 (food_fact['nutrition-score-fr_100g'].isna() & food_fact['nutrition-score-uk_100g'].isna())).sum()\n",
    "matching_rows"
   ]
  },
  {
   "cell_type": "code",
   "execution_count": 132,
   "id": "5bedd991-06a6-44b3-a59a-a3468df28d42",
   "metadata": {},
   "outputs": [
    {
     "name": "stdout",
     "output_type": "stream",
     "text": [
      "True\n"
     ]
    }
   ],
   "source": [
    "print(food_fact['nutrition-score-fr_100g'].isnull().mean() == food_fact['nutrition-score-uk_100g'].isnull().mean())"
   ]
  },
  {
   "cell_type": "markdown",
   "id": "346097af-3e4e-4afb-a254-4e7391ce674d",
   "metadata": {},
   "source": [
    "We observed that the columns nutrition-score-fr_100g and nutrition-score-uk_100g share a significant number of identical values. \n",
    "Additionally, both columns have the same number of non-missing (non-NaN) entries. Therefore, to avoid redundancy, we will retain only nutrition-score-fr_100g and drop nutrition-score-uk_100g."
   ]
  },
  {
   "cell_type": "code",
   "execution_count": 133,
   "id": "72c6fd5d-4d15-46ba-9cd1-4e35ff5534b3",
   "metadata": {},
   "outputs": [],
   "source": [
    "food_fact = food_fact.drop(columns=[\n",
    "    'nutrition-score-uk_100g'\n",
    "])"
   ]
  },
  {
   "cell_type": "code",
   "execution_count": 134,
   "id": "b34d749a-f73f-432e-8e25-1b51857dd146",
   "metadata": {},
   "outputs": [],
   "source": [
    "### Handle Countries"
   ]
  },
  {
   "cell_type": "code",
   "execution_count": 135,
   "id": "985debb4-0e3e-4930-8a0a-afb3c5a1d9ab",
   "metadata": {},
   "outputs": [
    {
     "data": {
      "text/plain": [
       "0.983366834941922"
      ]
     },
     "execution_count": 135,
     "metadata": {},
     "output_type": "execute_result"
    }
   ],
   "source": [
    "no_comma_count = food_fact[~food_fact['countries_en'].str.contains(',', na=False)].shape[0]\n",
    "no_comma_count/food_fact.shape[0]"
   ]
  },
  {
   "cell_type": "markdown",
   "id": "0181d9f6-fc61-44bb-8c00-8dbb0ac12c9c",
   "metadata": {},
   "source": [
    "Since the majority of products originate from a single country, we remove rows with multiple countries to simplify the dataset."
   ]
  },
  {
   "cell_type": "code",
   "execution_count": 136,
   "id": "b4661ec6-59a8-4f51-9383-0e3abfa67663",
   "metadata": {},
   "outputs": [],
   "source": [
    "food_fact = food_fact[~food_fact['countries_en'].str.contains(',', na=False)]"
   ]
  },
  {
   "cell_type": "code",
   "execution_count": 137,
   "id": "4cb1f7d3-8610-45f7-a377-04ca8b7424cd",
   "metadata": {
    "tags": []
   },
   "outputs": [
    {
     "name": "stdout",
     "output_type": "stream",
     "text": [
      "United States    108477\n",
      "France           102727\n",
      "Switzerland       11774\n",
      "Germany            7018\n",
      "Spain              4707\n",
      "                  ...  \n",
      "Macau                 1\n",
      "Libya                 1\n",
      "Jersey                1\n",
      "Guinea-Bissau         1\n",
      "Maldives              1\n",
      "Name: countries_en, Length: 183, dtype: int64\n"
     ]
    }
   ],
   "source": [
    "country_counts = food_fact['countries_en'].value_counts()\n",
    "print(country_counts)"
   ]
  },
  {
   "cell_type": "code",
   "execution_count": 138,
   "id": "0abe8365-53b6-4bfd-8c76-de2248a3f118",
   "metadata": {},
   "outputs": [],
   "source": [
    "## Apply minor correction \n",
    "food_fact['countries_en'] = food_fact['countries_en'].replace('fr:Quebec', 'Canada')"
   ]
  },
  {
   "cell_type": "markdown",
   "id": "dc372ceb-0bd7-4804-94c6-ba46d4945518",
   "metadata": {},
   "source": [
    "### Refine serving size"
   ]
  },
  {
   "cell_type": "code",
   "execution_count": 139,
   "id": "c7626fd0-7d39-47ed-aadc-17a5e1034c11",
   "metadata": {
    "tags": []
   },
   "outputs": [],
   "source": [
    "food_fact['serving_size_numeric'] = food_fact['serving_size'].str.extract(r\"(\\d+(\\.\\d+)?)\")[0].astype(float)"
   ]
  },
  {
   "cell_type": "code",
   "execution_count": 140,
   "id": "11e6973b-1411-48b8-8510-05ffd9a59189",
   "metadata": {},
   "outputs": [],
   "source": [
    "food_fact['serving_size_units'] = food_fact['serving_size'].str.replace(r\"\\(.*?\\)\", \"\", regex=True).str.strip()\n",
    "food_fact['serving_size_units'] = food_fact['serving_size_units'].str.replace(r\"(\\d+(\\.\\d+)?)\", \"\", regex=True).str.strip().str.lower()\n",
    "food_fact['serving_size_units'] = food_fact['serving_size_units'].str.replace(r\"[,\\-\\\\/\\s|().]\", \"\", regex=True).str.lower()\n",
    "food_fact['serving_size_units'] = food_fact['serving_size_units'].apply(\n",
    "    lambda x: 'g' if isinstance(x, str) and 'g' in x \n",
    "    else ('ml' if isinstance(x, str) and 'ml' in x \n",
    "          else ('cl' if isinstance(x, str) and 'cl' in x else x))\n",
    ")"
   ]
  },
  {
   "cell_type": "code",
   "execution_count": 141,
   "id": "e05861d9-4d6c-49a5-9bed-4453d78601fb",
   "metadata": {},
   "outputs": [],
   "source": [
    "food_fact = food_fact[food_fact['serving_size_units'].isin(['g', 'ml', 'cl', 'oz', 'cup'])]\n",
    "food_fact = food_fact.drop(columns=[\n",
    "    'serving_size'\n",
    "])"
   ]
  },
  {
   "cell_type": "code",
   "execution_count": 142,
   "id": "e197b816-e8ae-401e-871f-73e209e953b6",
   "metadata": {
    "tags": []
   },
   "outputs": [
    {
     "data": {
      "text/plain": [
       "g      109846\n",
       "ml      24926\n",
       "cl        940\n",
       "cup        97\n",
       "oz         96\n",
       "Name: serving_size_units, dtype: int64"
      ]
     },
     "execution_count": 142,
     "metadata": {},
     "output_type": "execute_result"
    }
   ],
   "source": [
    "food_fact['serving_size_units'].value_counts()"
   ]
  },
  {
   "cell_type": "markdown",
   "id": "5bf2786a-4247-4b79-96a7-47bc20b9e22c",
   "metadata": {},
   "source": [
    "### Fill the 'additives_n' column"
   ]
  },
  {
   "cell_type": "code",
   "execution_count": 143,
   "id": "611ca528-7315-4b92-a7df-88663850a159",
   "metadata": {},
   "outputs": [],
   "source": [
    "food_fact['additives_n'] = food_fact['additives_n'].fillna(0)"
   ]
  },
  {
   "cell_type": "markdown",
   "id": "f7eb4445-a325-424e-943e-c7e52bcf0c72",
   "metadata": {},
   "source": [
    "### Fill and correct 'nutrition_grade_fr' column to categorize products based on their nutritional scores"
   ]
  },
  {
   "cell_type": "code",
   "execution_count": 144,
   "id": "a2f0ce8c-2e7a-454b-9920-1a8f1314a3ee",
   "metadata": {},
   "outputs": [],
   "source": [
    "def classify_nutrition_score(score):\n",
    "    if score <= -1:\n",
    "        return 'a'\n",
    "    elif 0 <= score <= 2:\n",
    "        return 'b'\n",
    "    elif 3 <= score <= 10:\n",
    "        return 'c'\n",
    "    elif 11 <= score <= 18:\n",
    "        return 'd'\n",
    "    else:\n",
    "        return 'e'\n",
    "food_fact['nutrition_grade_fr'] = food_fact['nutrition-score-fr_100g'].apply(classify_nutrition_score)"
   ]
  },
  {
   "cell_type": "code",
   "execution_count": 145,
   "id": "0bb582b9-7b57-4547-b2b6-c1bf8f24b399",
   "metadata": {},
   "outputs": [
    {
     "data": {
      "text/plain": [
       "e    36882\n",
       "b    26051\n",
       "a    25393\n",
       "c    24818\n",
       "d    22761\n",
       "Name: nutrition_grade_fr, dtype: int64"
      ]
     },
     "execution_count": 145,
     "metadata": {},
     "output_type": "execute_result"
    }
   ],
   "source": [
    "food_fact['nutrition_grade_fr'].value_counts()"
   ]
  },
  {
   "cell_type": "markdown",
   "id": "214a29e3-2bef-49f2-8142-f1bc15fe70a8",
   "metadata": {},
   "source": [
    "### Drop duplicates and Nan value columns"
   ]
  },
  {
   "cell_type": "code",
   "execution_count": 146,
   "id": "530582e1-868b-4d5f-a4bf-679f73c0fd7a",
   "metadata": {},
   "outputs": [],
   "source": [
    "food_fact = food_fact.drop_duplicates()\n",
    "food_fact = food_fact.dropna()"
   ]
  },
  {
   "cell_type": "markdown",
   "id": "563fe5d6-6dcd-493f-922c-401fd36e5943",
   "metadata": {},
   "source": [
    "### Eliminate Outliers"
   ]
  },
  {
   "cell_type": "code",
   "execution_count": 147,
   "id": "39ab5ec3-07b9-49c2-abcd-b75d059a49b7",
   "metadata": {},
   "outputs": [],
   "source": [
    "def filter_outliers(data, *columns, threshold=3):\n",
    "    filtered_data = data.copy()\n",
    "    \n",
    "    for column in columns:\n",
    "        col_mean = filtered_data[column].mean()\n",
    "        col_std = filtered_data[column].std()\n",
    "        filtered_data = filtered_data[filtered_data[column] <= col_mean + threshold * col_std]\n",
    "    \n",
    "    return filtered_data"
   ]
  },
  {
   "cell_type": "code",
   "execution_count": 148,
   "id": "da6f6fec-b3a9-4cf2-9c11-14e150b0ad38",
   "metadata": {},
   "outputs": [],
   "source": [
    "filtered_food_fact = filter_outliers(\n",
    "    food_fact, \n",
    "    'additives_n', 'energy_100g', 'fat_100g', 'carbohydrates_100g', \n",
    "    'sugars_100g', 'fiber_100g', 'saturated-fat_100g', \n",
    "    'proteins_100g', 'salt_100g', 'sodium_100g', 'serving_size_numeric'\n",
    ")"
   ]
  },
  {
   "cell_type": "markdown",
   "id": "22222d60-bce5-4ffd-afd9-5203176007be",
   "metadata": {},
   "source": [
    "### Dataset display"
   ]
  },
  {
   "cell_type": "code",
   "execution_count": 149,
   "id": "a775907c-cdb7-4dc0-9781-7f3a3b0be3fa",
   "metadata": {},
   "outputs": [],
   "source": [
    "food_fact = food_fact.rename(columns={'countries_en': 'country', 'additives_n': 'additives'})"
   ]
  },
  {
   "cell_type": "code",
   "execution_count": 150,
   "id": "812f64bc-a587-402c-8ebf-86e6d78b2e58",
   "metadata": {},
   "outputs": [],
   "source": [
    "food_fact.columns = food_fact.columns.str.replace('_100g', '', regex=False)"
   ]
  },
  {
   "cell_type": "code",
   "execution_count": 157,
   "id": "926fd226-8ddc-4ae9-832e-67535aae4d66",
   "metadata": {},
   "outputs": [
    {
     "data": {
      "text/plain": [
       "(105185, 19)"
      ]
     },
     "execution_count": 157,
     "metadata": {},
     "output_type": "execute_result"
    }
   ],
   "source": [
    "food_fact.shape"
   ]
  },
  {
   "cell_type": "code",
   "execution_count": 151,
   "id": "fabda3cd-848f-454d-95f2-0625997ed4e5",
   "metadata": {},
   "outputs": [
    {
     "data": {
      "image/png": "[encoded data removed]",
      "text/plain": [
       "<Figure size 2000x2000 with 24 Axes>"
      ]
     },
     "metadata": {},
     "output_type": "display_data"
    }
   ],
   "source": [
    "food_fact.hist(figsize=(20,20), layout=(6,4))\n",
    "plt.show()"
   ]
  },
  {
   "cell_type": "code",
   "execution_count": 152,
   "id": "9bfc8dcf-fcb4-4b29-8b0b-6f6d9b09d5bb",
   "metadata": {},
   "outputs": [
    {
     "data": {
      "text/plain": [
       "code                    105185\n",
       "product_name             74691\n",
       "brands                   20685\n",
       "country                     54\n",
       "ingredients_text         87317\n",
       "additives                   29\n",
       "nutrition_grade_fr           5\n",
       "energy                    2403\n",
       "fat                       2528\n",
       "saturated-fat             1415\n",
       "carbohydrates             4334\n",
       "sugars                    2416\n",
       "fiber                      527\n",
       "proteins                  2058\n",
       "salt                      3296\n",
       "sodium                    3066\n",
       "nutrition-score-fr          44\n",
       "serving_size_numeric       804\n",
       "serving_size_units           5\n",
       "dtype: int64"
      ]
     },
     "execution_count": 152,
     "metadata": {},
     "output_type": "execute_result"
    }
   ],
   "source": [
    "food_fact.nunique()"
   ]
  },
  {
   "cell_type": "code",
   "execution_count": 153,
   "id": "e31a5498-bb23-45bd-901a-74e48e5bf988",
   "metadata": {},
   "outputs": [
    {
     "name": "stdout",
     "output_type": "stream",
     "text": [
      "<class 'pandas.core.frame.DataFrame'>\n",
      "Int64Index: 105185 entries, 67 to 356022\n",
      "Data columns (total 19 columns):\n",
      " #   Column                Non-Null Count   Dtype  \n",
      "---  ------                --------------   -----  \n",
      " 0   code                  105185 non-null  object \n",
      " 1   product_name          105185 non-null  object \n",
      " 2   brands                105185 non-null  object \n",
      " 3   country               105185 non-null  object \n",
      " 4   ingredients_text      105185 non-null  object \n",
      " 5   additives             105185 non-null  float64\n",
      " 6   nutrition_grade_fr    105185 non-null  object \n",
      " 7   energy                105185 non-null  float64\n",
      " 8   fat                   105185 non-null  float64\n",
      " 9   saturated-fat         105185 non-null  float64\n",
      " 10  carbohydrates         105185 non-null  float64\n",
      " 11  sugars                105185 non-null  float64\n",
      " 12  fiber                 105185 non-null  float64\n",
      " 13  proteins              105185 non-null  float64\n",
      " 14  salt                  105185 non-null  float64\n",
      " 15  sodium                105185 non-null  float64\n",
      " 16  nutrition-score-fr    105185 non-null  float64\n",
      " 17  serving_size_numeric  105185 non-null  float64\n",
      " 18  serving_size_units    105185 non-null  object \n",
      "dtypes: float64(12), object(7)\n",
      "memory usage: 16.0+ MB\n"
     ]
    }
   ],
   "source": [
    "food_fact.info()"
   ]
  },
  {
   "cell_type": "code",
   "execution_count": 154,
   "id": "b6a1630d-aca2-401e-8115-3ddfe6e27723",
   "metadata": {},
   "outputs": [
    {
     "data": {
      "text/plain": [
       "United States                83172\n",
       "France                       16812\n",
       "Switzerland                   1956\n",
       "Germany                        982\n",
       "Spain                          726\n",
       "United Kingdom                 433\n",
       "Australia                      274\n",
       "Belgium                        144\n",
       "Portugal                       132\n",
       "Canada                          89\n",
       "Italy                           71\n",
       "Sweden                          64\n",
       "Mexico                          61\n",
       "Serbia                          40\n",
       "New Zealand                     37\n",
       "Netherlands                     36\n",
       "Luxembourg                      12\n",
       "Austria                         10\n",
       "French Guiana                   10\n",
       "Thailand                         9\n",
       "Guadeloupe                       9\n",
       "Hungary                          8\n",
       "Poland                           8\n",
       "Romania                          7\n",
       "Ireland                          7\n",
       "Taiwan                           7\n",
       "Saint Pierre and Miquelon        7\n",
       "Russia                           6\n",
       "Denmark                          5\n",
       "Colombia                         5\n",
       "South Africa                     5\n",
       "Norway                           4\n",
       "Greece                           4\n",
       "Brazil                           3\n",
       "Cuba                             3\n",
       "French Polynesia                 3\n",
       "Lebanon                          3\n",
       "Tunisia                          2\n",
       "Chile                            2\n",
       "Réunion                          2\n",
       "Senegal                          2\n",
       "Czech Republic                   1\n",
       "Croatia                          1\n",
       "Martinique                       1\n",
       "Argentina                        1\n",
       "European Union                   1\n",
       "Andorra                          1\n",
       "Slovakia                         1\n",
       "Turkey                           1\n",
       "Nederland                        1\n",
       "Singapore                        1\n",
       "India                            1\n",
       "United Arab Emirates             1\n",
       "Cambodia                         1\n",
       "Name: country, dtype: int64"
      ]
     },
     "execution_count": 154,
     "metadata": {},
     "output_type": "execute_result"
    }
   ],
   "source": [
    "food_fact['country'].value_counts()"
   ]
  },
  {
   "cell_type": "code",
   "execution_count": 155,
   "id": "6849c8b9-358b-4aa7-9cc0-6157d3504f16",
   "metadata": {},
   "outputs": [
    {
     "data": {
      "text/plain": [
       "b    24939\n",
       "a    24527\n",
       "c    23671\n",
       "d    21829\n",
       "e    10219\n",
       "Name: nutrition_grade_fr, dtype: int64"
      ]
     },
     "execution_count": 155,
     "metadata": {},
     "output_type": "execute_result"
    }
   ],
   "source": [
    "food_fact['nutrition_grade_fr'].value_counts()"
   ]
  },
  {
   "cell_type": "code",
   "execution_count": 156,
   "id": "df955e16-46a5-4f7f-a3e3-5b17cfe0eb62",
   "metadata": {},
   "outputs": [
    {
     "data": {
      "text/html": [
       "<div>\n",
       "<style scoped>\n",
       "    .dataframe tbody tr th:only-of-type {\n",
       "        vertical-align: middle;\n",
       "    }\n",
       "\n",
       "    .dataframe tbody tr th {\n",
       "        vertical-align: top;\n",
       "    }\n",
       "\n",
       "    .dataframe thead th {\n",
       "        text-align: right;\n",
       "    }\n",
       "</style>\n",
       "<table border=\"1\" class=\"dataframe\">\n",
       "  <thead>\n",
       "    <tr style=\"text-align: right;\">\n",
       "      <th></th>\n",
       "      <th>additives</th>\n",
       "      <th>energy</th>\n",
       "      <th>fat</th>\n",
       "      <th>carbohydrates</th>\n",
       "      <th>sugars</th>\n",
       "      <th>fiber</th>\n",
       "      <th>proteins</th>\n",
       "      <th>saturated-fat</th>\n",
       "      <th>salt</th>\n",
       "      <th>sodium</th>\n",
       "      <th>nutrition-score-fr</th>\n",
       "      <th>serving_size_numeric</th>\n",
       "    </tr>\n",
       "  </thead>\n",
       "  <tbody>\n",
       "    <tr>\n",
       "      <th>count</th>\n",
       "      <td>105185.000000</td>\n",
       "      <td>105185.000000</td>\n",
       "      <td>105185.000000</td>\n",
       "      <td>105185.000000</td>\n",
       "      <td>105185.000000</td>\n",
       "      <td>105185.000000</td>\n",
       "      <td>105185.000000</td>\n",
       "      <td>105185.000000</td>\n",
       "      <td>105185.000000</td>\n",
       "      <td>105185.000000</td>\n",
       "      <td>105185.000000</td>\n",
       "      <td>105185.000000</td>\n",
       "    </tr>\n",
       "    <tr>\n",
       "      <th>mean</th>\n",
       "      <td>1.974683</td>\n",
       "      <td>761.180103</td>\n",
       "      <td>8.299673</td>\n",
       "      <td>18.995298</td>\n",
       "      <td>5.985886</td>\n",
       "      <td>1.398039</td>\n",
       "      <td>7.445524</td>\n",
       "      <td>3.133841</td>\n",
       "      <td>1.190869</td>\n",
       "      <td>0.468846</td>\n",
       "      <td>5.725389</td>\n",
       "      <td>100.183287</td>\n",
       "    </tr>\n",
       "    <tr>\n",
       "      <th>std</th>\n",
       "      <td>2.525903</td>\n",
       "      <td>554.568084</td>\n",
       "      <td>11.412303</td>\n",
       "      <td>20.167900</td>\n",
       "      <td>7.777592</td>\n",
       "      <td>2.421779</td>\n",
       "      <td>8.106988</td>\n",
       "      <td>5.138974</td>\n",
       "      <td>2.684149</td>\n",
       "      <td>1.056746</td>\n",
       "      <td>8.115445</td>\n",
       "      <td>87.184940</td>\n",
       "    </tr>\n",
       "    <tr>\n",
       "      <th>min</th>\n",
       "      <td>0.000000</td>\n",
       "      <td>0.000000</td>\n",
       "      <td>0.000000</td>\n",
       "      <td>0.000000</td>\n",
       "      <td>0.000000</td>\n",
       "      <td>0.000000</td>\n",
       "      <td>0.000000</td>\n",
       "      <td>0.000000</td>\n",
       "      <td>0.000000</td>\n",
       "      <td>0.000000</td>\n",
       "      <td>-15.000000</td>\n",
       "      <td>0.000000</td>\n",
       "    </tr>\n",
       "    <tr>\n",
       "      <th>25%</th>\n",
       "      <td>0.000000</td>\n",
       "      <td>283.000000</td>\n",
       "      <td>0.100000</td>\n",
       "      <td>4.580000</td>\n",
       "      <td>0.600000</td>\n",
       "      <td>0.000000</td>\n",
       "      <td>1.180000</td>\n",
       "      <td>0.000000</td>\n",
       "      <td>0.124460</td>\n",
       "      <td>0.049000</td>\n",
       "      <td>0.000000</td>\n",
       "      <td>30.000000</td>\n",
       "    </tr>\n",
       "    <tr>\n",
       "      <th>50%</th>\n",
       "      <td>1.000000</td>\n",
       "      <td>644.000000</td>\n",
       "      <td>3.330000</td>\n",
       "      <td>11.760000</td>\n",
       "      <td>3.230000</td>\n",
       "      <td>0.500000</td>\n",
       "      <td>4.600000</td>\n",
       "      <td>0.620000</td>\n",
       "      <td>0.767080</td>\n",
       "      <td>0.302000</td>\n",
       "      <td>3.000000</td>\n",
       "      <td>80.000000</td>\n",
       "    </tr>\n",
       "    <tr>\n",
       "      <th>75%</th>\n",
       "      <td>3.000000</td>\n",
       "      <td>1167.000000</td>\n",
       "      <td>11.850000</td>\n",
       "      <td>26.190000</td>\n",
       "      <td>8.330000</td>\n",
       "      <td>2.000000</td>\n",
       "      <td>11.000000</td>\n",
       "      <td>3.850000</td>\n",
       "      <td>1.503680</td>\n",
       "      <td>0.592000</td>\n",
       "      <td>12.000000</td>\n",
       "      <td>130.000000</td>\n",
       "    </tr>\n",
       "    <tr>\n",
       "      <th>max</th>\n",
       "      <td>30.000000</td>\n",
       "      <td>14644.000000</td>\n",
       "      <td>100.000000</td>\n",
       "      <td>100.000000</td>\n",
       "      <td>100.000000</td>\n",
       "      <td>87.500000</td>\n",
       "      <td>87.800000</td>\n",
       "      <td>42.860000</td>\n",
       "      <td>71.582280</td>\n",
       "      <td>28.182000</td>\n",
       "      <td>29.000000</td>\n",
       "      <td>2091.000000</td>\n",
       "    </tr>\n",
       "  </tbody>\n",
       "</table>\n",
       "</div>"
      ],
      "text/plain": [
       "           additives         energy            fat  carbohydrates  \\\n",
       "count  105185.000000  105185.000000  105185.000000  105185.000000   \n",
       "mean        1.974683     761.180103       8.299673      18.995298   \n",
       "std         2.525903     554.568084      11.412303      20.167900   \n",
       "min         0.000000       0.000000       0.000000       0.000000   \n",
       "25%         0.000000     283.000000       0.100000       4.580000   \n",
       "50%         1.000000     644.000000       3.330000      11.760000   \n",
       "75%         3.000000    1167.000000      11.850000      26.190000   \n",
       "max        30.000000   14644.000000     100.000000     100.000000   \n",
       "\n",
       "              sugars          fiber       proteins  saturated-fat  \\\n",
       "count  105185.000000  105185.000000  105185.000000  105185.000000   \n",
       "mean        5.985886       1.398039       7.445524       3.133841   \n",
       "std         7.777592       2.421779       8.106988       5.138974   \n",
       "min         0.000000       0.000000       0.000000       0.000000   \n",
       "25%         0.600000       0.000000       1.180000       0.000000   \n",
       "50%         3.230000       0.500000       4.600000       0.620000   \n",
       "75%         8.330000       2.000000      11.000000       3.850000   \n",
       "max       100.000000      87.500000      87.800000      42.860000   \n",
       "\n",
       "                salt         sodium  nutrition-score-fr  serving_size_numeric  \n",
       "count  105185.000000  105185.000000       105185.000000         105185.000000  \n",
       "mean        1.190869       0.468846            5.725389            100.183287  \n",
       "std         2.684149       1.056746            8.115445             87.184940  \n",
       "min         0.000000       0.000000          -15.000000              0.000000  \n",
       "25%         0.124460       0.049000            0.000000             30.000000  \n",
       "50%         0.767080       0.302000            3.000000             80.000000  \n",
       "75%         1.503680       0.592000           12.000000            130.000000  \n",
       "max        71.582280      28.182000           29.000000           2091.000000  "
      ]
     },
     "execution_count": 156,
     "metadata": {},
     "output_type": "execute_result"
    }
   ],
   "source": [
    "columns_to_display = [\n",
    "    'additives', 'energy', 'fat', 'carbohydrates', 'sugars', \n",
    "    'fiber', 'proteins', 'saturated-fat', \n",
    "    'salt', 'sodium', 'nutrition-score-fr', 'serving_size_numeric'\n",
    "]\n",
    "food_fact[columns_to_display].describe()"
   ]
  },
  {
   "cell_type": "code",
   "execution_count": null,
   "id": "6ed03247-8a60-421a-a332-514f57482c0b",
   "metadata": {},
   "outputs": [],
   "source": [
    "food_fact.to_csv('food_fact.csv')"
   ]
  }
 ],
 "metadata": {
  "kernelspec": {
   "display_name": "Python 3 (ipykernel)",
   "language": "python",
   "name": "python3"
  },
  "language_info": {
   "codemirror_mode": {
    "name": "ipython",
    "version": 3
   },
   "file_extension": ".py",
   "mimetype": "text/x-python",
   "name": "python",
   "nbconvert_exporter": "python",
   "pygments_lexer": "ipython3",
   "version": "3.9.13"
  }
 },
 "nbformat": 4,
 "nbformat_minor": 5
}
